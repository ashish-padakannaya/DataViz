{
 "cells": [
  {
   "cell_type": "markdown",
   "metadata": {},
   "source": [
    "# [2020-01-28]"
   ]
  },
  {
   "cell_type": "markdown",
   "metadata": {},
   "source": [
    "# Final Project\n",
    "1. Team of 4 and 5 for project\n",
    "2. Develop an end outcome (show an interactive viz).\n",
    "3. Has to be web accessible\n",
    "4. submit src code as zip and provide link to viz\n",
    "5. report should follow a standard format. (unlimited pages for references [6-10])"
   ]
  },
  {
   "cell_type": "markdown",
   "metadata": {},
   "source": [
    "## Report\n",
    "1. Include motivation and intro at first\n",
    "2. Not just about coding. must provide methodology. \n",
    "3. Why and how you could use the viz to solve problems?\n",
    "4. How do you know your audience will understand what you're trying to convey?\n",
    "5. Why is this viz the best? flaws? future imporvements?"
   ]
  },
  {
   "cell_type": "markdown",
   "metadata": {},
   "source": [
    "## Presentation:\n",
    "1. Peer evaluation after elevation pitch. You have only 90 seconds. \n",
    "2. Poster section to roughly explain (4-5 mins). people must cast votes.\n",
    "3. Video presentation also included (6-10 mins)."
   ]
  },
  {
   "cell_type": "markdown",
   "metadata": {},
   "source": [
    "## Evaluation:\n",
    "1. 30% data wrangling. write code to clean and analyze data.\n",
    "2. 40% for implementation. viz proto. how do you organize analytics? You're free to use any tools. \n",
    "3. 25% for presentation. report, video, poster, etc. Is it within the 4 mins and technically sound? \n",
    "4. Team members may have diff scores contingent to peer evaluation."
   ]
  },
  {
   "cell_type": "markdown",
   "metadata": {},
   "source": [
    "## Sign up for project\n",
    "1. post team members and project sequence on canvas discussion board.\n",
    "2. projects available on 2/3. submit preferences by 2/10.\n",
    "3. Sign up requires just 1 team member. Best if the same person submits the project."
   ]
  },
  {
   "cell_type": "markdown",
   "metadata": {},
   "source": []
  },
  {
   "cell_type": "markdown",
   "metadata": {},
   "source": []
  }
 ],
 "metadata": {
  "kernelspec": {
   "display_name": "R",
   "language": "R",
   "name": "ir"
  },
  "language_info": {
   "codemirror_mode": "r",
   "file_extension": ".r",
   "mimetype": "text/x-r-source",
   "name": "R",
   "pygments_lexer": "r",
   "version": "3.6.2"
  }
 },
 "nbformat": 4,
 "nbformat_minor": 2
}
