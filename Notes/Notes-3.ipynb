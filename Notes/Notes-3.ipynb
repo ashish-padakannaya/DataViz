{
 "cells": [
  {
   "cell_type": "markdown",
   "metadata": {},
   "source": [
    "# [02-11-2020]"
   ]
  },
  {
   "cell_type": "markdown",
   "metadata": {},
   "source": [
    "## Psychology Viz presentation\n",
    "1. Gestalt psychology: You see illusions\n",
    "2. Animated pictures? train moving: looks like it goes both ways\n",
    "3. It's all about presentation\n",
    "4. What about doors? Do you push or pull? Hospital doors can't cause confusion in case of emergencies. "
   ]
  },
  {
   "cell_type": "markdown",
   "metadata": {},
   "source": [
    "## Human factors: Physical iteractions\n",
    "1. The way we design viz, we can augment based on time for people to comprehend it.\n",
    "2. The speed meters, we see electronic versions that are similar and actually improve and enhance how people comprehend it. Split seconds of time saved can factor decisons.\n",
    "3. For relations, don't use parallel lines that could super impose. Use arcs (sankey diagram) to use more real estate and minimize overlap.\n",
    "4. Parallel lines are not a good representation and was learned through time series data (tall data) of 6 categories. \n",
    "5. Search and filters are key to handling these. "
   ]
  },
  {
   "cell_type": "markdown",
   "metadata": {},
   "source": [
    "## How to overcome problems with line charts\n",
    "1. Use stacked graphs. But it's harder to see when values are very close to each other. It's good for trend analysis but not for comparison.\n",
    "2. Use small multiples. Each individual chart is a category and it's easier to compare.\n",
    "3. NBA passing viz. Thickness of line implies no of passes."
   ]
  },
  {
   "cell_type": "markdown",
   "metadata": {},
   "source": [
    "## Envisioning information\n",
    "1. leverage similarity and proximity. Force eyes to compare.\n",
    "2. Preserve data resolution. \n",
    "3. May need in final project. Work on interactive viz to work on the given data set. \n",
    "4. How do we show static viz with better resolution? with multiples!\n",
    "5. Our eyes could fool us. we must create accurate viz.\n",
    "6. We have to move attention from one pattern to another with minimal effort from end user."
   ]
  },
  {
   "cell_type": "markdown",
   "metadata": {},
   "source": [
    "## Perception\n",
    "1. Comparing pie and bar. it's tough to compare without a scale. Bar is better (at same level)\n",
    "2. However bars aligned at different y precision are harder to compare. we need scale for relativity.\n",
    "3. Position along common scale is always good.\n",
    "4. Position along non-aligned scales. \n",
    "5. Look at area involved. (low accuracy)"
   ]
  },
  {
   "cell_type": "markdown",
   "metadata": {},
   "source": [
    "## Recognize by remembering\n",
    "1. A graphical form involves elementary perception tasks.  that lead to more acurate judgements than another graphical form. which viz elements would you use?\n",
    "2. Hand-drawing icnreases participation. \n",
    "3. People prefer more chart junk since it's engaging and easy to recollect. Can give people maximum ideas.\n",
    "4. "
   ]
  },
  {
   "cell_type": "markdown",
   "metadata": {},
   "source": []
  },
  {
   "cell_type": "markdown",
   "metadata": {},
   "source": []
  },
  {
   "cell_type": "markdown",
   "metadata": {},
   "source": []
  },
  {
   "cell_type": "markdown",
   "metadata": {},
   "source": []
  }
 ],
 "metadata": {
  "kernelspec": {
   "display_name": "R",
   "language": "R",
   "name": "ir"
  },
  "language_info": {
   "codemirror_mode": "r",
   "file_extension": ".r",
   "mimetype": "text/x-r-source",
   "name": "R",
   "pygments_lexer": "r",
   "version": "3.6.2"
  }
 },
 "nbformat": 4,
 "nbformat_minor": 2
}
