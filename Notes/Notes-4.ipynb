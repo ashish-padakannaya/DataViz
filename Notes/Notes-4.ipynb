{
 "cells": [
  {
   "cell_type": "markdown",
   "metadata": {},
   "source": [
    "# [2020-02-25]"
   ]
  },
  {
   "cell_type": "markdown",
   "metadata": {},
   "source": [
    "## Decoding classification for chloropleth maps\n",
    "1. Equal interval\n",
    "2. Quantiles\n",
    "3. Natural breaks\n",
    "4. Pretty breaks\n",
    "\n",
    "For maps, collect data at points. count points in polygon, normalize in area then classify for maps"
   ]
  },
  {
   "cell_type": "markdown",
   "metadata": {},
   "source": [
    "## Tools\n",
    "1. Leaflet\n",
    "2. Datamaps\n",
    "3. Interactive cholro\n",
    "4. rMaps"
   ]
  },
  {
   "cell_type": "markdown",
   "metadata": {},
   "source": [
    "# [2020-03-05]"
   ]
  },
  {
   "cell_type": "markdown",
   "metadata": {},
   "source": [
    "## Network viz\n",
    "1. Make complex things simple\n",
    "2. Look for orderness in data at diff levels, time scale on multiple dims\n",
    "3. Zoom in and zoom out for orderness"
   ]
  },
  {
   "cell_type": "markdown",
   "metadata": {},
   "source": [
    "## Need for N/Ws\n",
    "1. Social N/Ws\n",
    "2. Info N/Ws\n",
    "3. Computer N/Ws"
   ]
  },
  {
   "cell_type": "markdown",
   "metadata": {},
   "source": [
    "## What is a N/W\n",
    "1. coll of Nodes and edges\n",
    "2. Encoding N/Ws\n",
    "3. Represent with Adjacency matrix"
   ]
  },
  {
   "cell_type": "markdown",
   "metadata": {},
   "source": [
    "## Types\n",
    "1. Undirected\n",
    "2. Directed\n",
    "3. multi mode\n",
    "4. Weighted"
   ]
  },
  {
   "cell_type": "markdown",
   "metadata": {},
   "source": [
    "## Measures\n",
    "### Node level\n",
    "1. Degree\n",
    "2. B/Wness\n",
    "3. Closeness \n",
    "4. Eigenvec\n",
    "\n",
    "### Graph level\n",
    "1. Diameter\n",
    "2. Size"
   ]
  }
 ],
 "metadata": {
  "kernelspec": {
   "display_name": "R",
   "language": "R",
   "name": "ir"
  },
  "language_info": {
   "codemirror_mode": "r",
   "file_extension": ".r",
   "mimetype": "text/x-r-source",
   "name": "R",
   "pygments_lexer": "r",
   "version": "3.6.2"
  }
 },
 "nbformat": 4,
 "nbformat_minor": 2
}
