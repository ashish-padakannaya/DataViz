{
 "cells": [
  {
   "cell_type": "markdown",
   "metadata": {},
   "source": [
    "# [2020-01-28]"
   ]
  },
  {
   "cell_type": "markdown",
   "metadata": {},
   "source": [
    "## Final Project\n",
    "    1. Team of 4 and 5 for project\n",
    "    2. Develop an end outcome (show an interactive viz).\n",
    "    3. Has to be web accessible\n",
    "    4. submit src code as zip and provide link to viz\n",
    "    5. report should follow a standard format. (unlimited pages for references [6-10])"
   ]
  },
  {
   "cell_type": "markdown",
   "metadata": {},
   "source": [
    "## Report\n",
    "    1. Include motivation and intro at first\n",
    "    2. Not just about coding. must provide methodology. \n",
    "    3. Why and how you could use the viz to solve problems?\n",
    "    4. How do you know your audience will understand what you're trying to convey?\n",
    "    5. Why is this viz the best? flaws? future imporvements?"
   ]
  },
  {
   "cell_type": "markdown",
   "metadata": {},
   "source": [
    "## Presentation:\n",
    "    1. Peer evaluation after elevation pitch. You have only 90 seconds. \n",
    "    2. Poster section to roughly explain (4-5 mins). people must cast votes.\n",
    "    3. Video presentation also included (6-10 mins)."
   ]
  },
  {
   "cell_type": "markdown",
   "metadata": {},
   "source": [
    "## Evaluation:\n",
    "    1. 30% data wrangling. write code to clean and analyze data.\n",
    "    2. 40% for implementation. viz proto. how do you organize analytics? You're free to use any tools. \n",
    "    3. 25% for presentation. report, video, poster, etc. Is it within the 4 mins and technically sound? \n",
    "    4. Team members may have diff scores contingent to peer evaluation."
   ]
  },
  {
   "cell_type": "markdown",
   "metadata": {},
   "source": [
    "## Sign up for project\n",
    "    1. post team members and project sequence on canvas discussion board.\n",
    "    2. projects available on 2/3. submit preferences by 2/10.\n",
    "    3. Sign up requires just 1 team member. Best if the same person submits the project.\n",
    "    4. MCS portfolio: Submit it before the same deadline as the final project."
   ]
  },
  {
   "cell_type": "markdown",
   "metadata": {},
   "source": [
    "## AR Project\n",
    "    1.Final project will be part of AR space.\n",
    "    2.Present info in a 3D space.\n",
    "    3.Image recognition involved.\n",
    "    4.O/P must be analytics. "
   ]
  },
  {
   "cell_type": "markdown",
   "metadata": {},
   "source": [
    "## Project choices\n",
    "    1.SEInet Cactus (just recognize cactus). go to the link and crawl all the cactus images. Family of cactii available to crawl data.\n",
    "    2. WebMD. Put discussion into viz.\n",
    "    3. Yelp: download 1 year worth of data for business reviews, check-ins. \n",
    "    4. Amazon product review: "
   ]
  },
  {
   "cell_type": "markdown",
   "metadata": {},
   "source": [
    "# [01-30-2020]"
   ]
  },
  {
   "cell_type": "markdown",
   "metadata": {},
   "source": [
    "## Data types\n",
    "We can break up real data into these data types:\n",
    "\n",
    "    1. 1D: Detail about focus area. none about surrounding.\n",
    "    2. 2D: Every data point is in a multitude of layers. Ex: Maps\n",
    "    3. 3D: Same as 2D.\n",
    "    4. Temporal: changes over time and gives valuable insights in transition.\n",
    "    5. Multi Dim: Can have several attributes to manipulate and showcase a different story.\n",
    "    6. Tree: Good for showing heirarchical data.\n",
    "    7. N/W: Can identify otherwise hidden relationships."
   ]
  },
  {
   "cell_type": "markdown",
   "metadata": {},
   "source": [
    "# [2020-02-04]"
   ]
  },
  {
   "cell_type": "markdown",
   "metadata": {},
   "source": [
    "    1. How to deal with missing data?\n",
    "    2. Starting now, you can work with a peer for Javascript work."
   ]
  },
  {
   "cell_type": "markdown",
   "metadata": {},
   "source": [
    "## Assignment 2\n",
    "    1. Instructions will be provided in PDF as usual\n",
    "    2. Implement interactive viz\n",
    "    3. Can use any tools.\n",
    "    4. We'll have a dataset with missing value\n",
    "    5. User must be able to zoom in and filter. Support exploration of data. \n",
    "    6. Can have more than 3 interactions.\n",
    "    7. Use assign-2 techniques in final project.\n"
   ]
  },
  {
   "cell_type": "markdown",
   "metadata": {},
   "source": [
    "## Principle design\n",
    "    1. CS bridges the gap between a statistician and a designer.\n",
    "    2. Not just s data modeler anymore"
   ]
  },
  {
   "cell_type": "markdown",
   "metadata": {},
   "source": [
    "## How to articulate with VIZ\n",
    "    1. looking at brain tissue scans, different density levels can show different types of information.\n",
    "    2. back to kiss by country, we use sequential here to immediately convey the info.\n",
    "    3. recongnize data types and viz task\n",
    "    4. Subjective choices."
   ]
  },
  {
   "cell_type": "markdown",
   "metadata": {},
   "source": [
    "## Data ink ratio\n",
    "    1. A large share of ink on a graphic should present data-information, the ink changing as the data change\n",
    "    2. Mininmize decorative ink and capture most info. \n",
    "    3. Most students don't like minimalistic. They enjoy color. \n",
    "    4. Use too much and it goes into chartJunk."
   ]
  },
  {
   "cell_type": "markdown",
   "metadata": {},
   "source": [
    "## Maps\n",
    "    1. Train routes are on trimmed down maps and categorized by direction.\n",
    "    2. We still use those maps"
   ]
  },
  {
   "cell_type": "markdown",
   "metadata": {},
   "source": [
    "## Practical approach\n",
    "    1. Find the best VIZ in domain.\n",
    "    2. Improve perception without improving aesthetics.\n",
    "    3. a lot of viz creates a wow factor but sometimes they're not used properly. \n",
    "    4. when you want to talk about gap, you don't wanna show a venn diagram\n",
    "    5. "
   ]
  },
  {
   "cell_type": "markdown",
   "metadata": {},
   "source": [
    "# [2020-02-05]"
   ]
  },
  {
   "cell_type": "markdown",
   "metadata": {},
   "source": [
    "## Missing values\n",
    "    1. Can be completely random.\n",
    "    2. random but the missingness could also be due to another variable.\n",
    "    3. It's not random."
   ]
  },
  {
   "cell_type": "markdown",
   "metadata": {},
   "source": [
    "## How to deal with missing values\n",
    "    1. Delete method. entire rows\n",
    "        * Simple but may be biased and reduces statistical power.\n",
    "        * Use when you know for sure it's random and sample size is large\n",
    "        * pairwise deletion: can't compare because sample data is different each time.\n",
    "    2. Impute data. replace missing values with dummy, mean\n",
    "        * Replace with mean or mode.\n",
    "        * Can analyse complete case\n",
    "        * Reduces variability \n",
    "        * Weakens covariance and correlation.\n",
    "        * Dummy: create missing value indicator. Biased estimates.\n",
    "    3. Use more complicated measures.\n",
    "        * Regression: Replace missing value with prediction from regression equations.\n",
    "        Adv: uses info from observed data\n",
    "        Disad: weakens variance. overestimtes model fit.\n",
    "        * Maximum likelihood implication: Very similar to regression. Uses highest log-likelihood. \n",
    "        * Process the same with or without missing data.\n",
    "        * Reduces bias \n",
    "        "
   ]
  },
  {
   "cell_type": "code",
   "execution_count": null,
   "metadata": {},
   "outputs": [],
   "source": []
  }
 ],
 "metadata": {
  "kernelspec": {
   "display_name": "Python 3",
   "language": "python",
   "name": "python3"
  },
  "language_info": {
   "codemirror_mode": {
    "name": "ipython",
    "version": 3
   },
   "file_extension": ".py",
   "mimetype": "text/x-python",
   "name": "python",
   "nbconvert_exporter": "python",
   "pygments_lexer": "ipython3",
   "version": "3.7.4"
  }
 },
 "nbformat": 4,
 "nbformat_minor": 2
}
