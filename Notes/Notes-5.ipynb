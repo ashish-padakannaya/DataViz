{
 "cells": [
  {
   "cell_type": "markdown",
   "metadata": {},
   "source": [
    "# [2020-03-17]"
   ]
  },
  {
   "cell_type": "markdown",
   "metadata": {},
   "source": [
    "Why do we need text viz?\n",
    "1. Large text corpora navigation\n",
    "2. Efficiently acquire information\n",
    "3. transforms textual information (words, sentences, documents, or their relationships) into visual forms"
   ]
  },
  {
   "cell_type": "markdown",
   "metadata": {},
   "source": [
    "visualizations that ...\n",
    "1. content linguistic structures\n",
    "2. content semantics\n",
    "3. content similarities\n",
    "4. content connections\n",
    "5. content evolution\n",
    "6. improve text searches\n",
    "7. innovations"
   ]
  },
  {
   "cell_type": "markdown",
   "metadata": {},
   "source": [
    "## Tools"
   ]
  },
  {
   "cell_type": "markdown",
   "metadata": {},
   "source": [
    "1. Feature lens\n",
    "2. Light side\n",
    "3. Word2Vec"
   ]
  },
  {
   "cell_type": "markdown",
   "metadata": {},
   "source": [
    "## Text processing\n",
    "Lexical Analysis\n",
    "Extract Terms\n",
    "Removing Stop words\n",
    "Stemming\n",
    "Term Selection"
   ]
  },
  {
   "cell_type": "markdown",
   "metadata": {},
   "source": []
  },
  {
   "cell_type": "markdown",
   "metadata": {},
   "source": [
    "# [2020-03-19]"
   ]
  },
  {
   "cell_type": "markdown",
   "metadata": {},
   "source": [
    "## Sentiment analysis\n",
    "1. You can use extended libs to analyse text deriving relationships\n",
    "2. Annotate the entire text corpus whether all these texts belong to two extremes or not\n",
    "3. Leaning towards +ve or -ve. Naive but simplistic and fundamenetal approach"
   ]
  },
  {
   "cell_type": "markdown",
   "metadata": {},
   "source": [
    "## Algo challenges\n",
    "1. Subtle sentences and compound words\n",
    "2. Modular expressions\n",
    "3. They do not take into account NLP"
   ]
  },
  {
   "cell_type": "markdown",
   "metadata": {},
   "source": [
    "## Approaches\n",
    "1. Lexicon based\n",
    "2. Rule based (Amazon defines rules for product specs).Rule based isn't very different from lexicon\n",
    "3. Machine learning takes into account different features."
   ]
  },
  {
   "cell_type": "markdown",
   "metadata": {},
   "source": [
    "## TIME SERIES DATA\n",
    "1. Sets of values changing over time\n",
    "2. May have an internal structure\n",
    "3. correlation, trend, seasonal variation"
   ]
  },
  {
   "cell_type": "markdown",
   "metadata": {},
   "source": [
    "## Tools\n",
    "1. Visa\n",
    "2. Teva\n",
    "3. Entity workspace"
   ]
  },
  {
   "cell_type": "markdown",
   "metadata": {},
   "source": [
    "## Viz\n",
    "1. visualizing collections of observed events by time\n",
    "2. visualizing observed events that are quantified, classified, examined for possible relations with other facts"
   ]
  }
 ],
 "metadata": {
  "kernelspec": {
   "display_name": "R",
   "language": "R",
   "name": "ir"
  },
  "language_info": {
   "codemirror_mode": "r",
   "file_extension": ".r",
   "mimetype": "text/x-r-source",
   "name": "R",
   "pygments_lexer": "r",
   "version": "3.6.2"
  }
 },
 "nbformat": 4,
 "nbformat_minor": 2
}
