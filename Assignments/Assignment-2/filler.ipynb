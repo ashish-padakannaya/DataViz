{
 "cells": [
  {
   "cell_type": "code",
   "execution_count": 57,
   "metadata": {},
   "outputs": [],
   "source": [
    "import pandas as pd\n",
    "import numpy as np\n",
    "cols = ['round',\n",
    "'winner',\n",
    "'results',\n",
    "'year',\n",
    "'gender',\n",
    "'player1',\n",
    "'player2',\n",
    "'firstServe1',\n",
    "'firstServe2',\n",
    "'firstPointWon1',\n",
    "'firstPointWon2',\n",
    "'secPointWon1',\n",
    "'secPointWon2',\n",
    "'break1',\n",
    "'break2',\n",
    "'return1',\n",
    "'return2',\n",
    "'net1',\n",
    "'net2'\n",
    "]\n",
    "\n",
    "metrics = ['firstServe1',\n",
    " 'firstServe2',\n",
    " 'firstPointWon1',\n",
    " 'firstPointWon2',\n",
    " 'secPointWon1',\n",
    " 'secPointWon2',\n",
    " 'break1',\n",
    " 'break2',\n",
    " 'return1',\n",
    " 'return2',\n",
    "'net1',\n",
    "'net2']"
   ]
  },
  {
   "cell_type": "code",
   "execution_count": 58,
   "metadata": {},
   "outputs": [],
   "source": [
    "df = pd.read_csv(\"10yearAUSOpenMatches.csv\", usecols=cols)\n",
    "df.replace('-', np.nan, inplace=True)\n",
    "\n",
    "missing = df[df.isnull().any(axis=1)]"
   ]
  },
  {
   "cell_type": "code",
   "execution_count": 59,
   "metadata": {},
   "outputs": [],
   "source": [
    "def fill_metrics(p1, p2):\n",
    "    res = {}\n",
    "    temp = df.loc[(df.player1 == p1) | (df.player2 == p2)]\n",
    "    \n",
    "    if temp.size:\n",
    "        for metric in metrics:\n",
    "            ans = temp[metric].dropna()\n",
    "            ans = ans.apply(lambda row: row[:-1]).astype(float)\n",
    "            ans = list(ans) if len(ans) > 0 else [50]\n",
    "            ans = np.around(np.mean(ans), decimals=1)\n",
    "            res[metric] = str(ans) + '%'\n",
    "        return res"
   ]
  },
  {
   "cell_type": "code",
   "execution_count": 60,
   "metadata": {},
   "outputs": [],
   "source": [
    "for index, row in missing.iterrows():\n",
    "    p1 = row['player1']\n",
    "    p2 = row['player2']\n",
    "    empty_cells = np.where(pd.isnull(row))[0]\n",
    "    res = fill_metrics(p1, p2)\n",
    "    for col_index in empty_cells:\n",
    "        col_name = cols[col_index]\n",
    "        if res[col_name] == 'nan%': res[col_name] == '50%'\n",
    "        df.at[index, col_name] = res[col_name]\n"
   ]
  },
  {
   "cell_type": "code",
   "execution_count": 64,
   "metadata": {},
   "outputs": [],
   "source": [
    "df.to_csv('filled.csv', index=False, header=True)"
   ]
  }
 ],
 "metadata": {
  "kernelspec": {
   "display_name": "Python 3",
   "language": "python",
   "name": "python3"
  },
  "language_info": {
   "codemirror_mode": {
    "name": "ipython",
    "version": 3
   },
   "file_extension": ".py",
   "mimetype": "text/x-python",
   "name": "python",
   "nbconvert_exporter": "python",
   "pygments_lexer": "ipython3",
   "version": "3.7.4"
  }
 },
 "nbformat": 4,
 "nbformat_minor": 2
}
